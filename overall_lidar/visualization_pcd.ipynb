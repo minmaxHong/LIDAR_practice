{
 "cells": [
  {
   "cell_type": "code",
   "execution_count": 1,
   "metadata": {},
   "outputs": [
    {
     "name": "stdout",
     "output_type": "stream",
     "text": [
      "Jupyter environment detected. Enabling Open3D WebVisualizer.\n",
      "[Open3D INFO] WebRTC GUI backend enabled.\n",
      "[Open3D INFO] WebRTCWindowSystem: HTTP handshake server disabled.\n"
     ]
    }
   ],
   "source": [
    "import open3d as o3d\n",
    "import numpy as np\n",
    "\n",
    "pcd_file_PATH = \"bin_file.pcd\""
   ]
  },
  {
   "cell_type": "code",
   "execution_count": 2,
   "metadata": {},
   "outputs": [
    {
     "name": "stdout",
     "output_type": "stream",
     "text": [
      "PointCloud with 115384 points.\n"
     ]
    }
   ],
   "source": [
    "# pcd file 읽기\n",
    "pcd = o3d.io.read_point_cloud(pcd_file_PATH)\n",
    "print(pcd)"
   ]
  },
  {
   "cell_type": "code",
   "execution_count": 3,
   "metadata": {},
   "outputs": [],
   "source": [
    "# visualization \n",
    "o3d.visualization.draw_geometries([pcd])"
   ]
  },
  {
   "cell_type": "code",
   "execution_count": 4,
   "metadata": {},
   "outputs": [
    {
     "name": "stdout",
     "output_type": "stream",
     "text": [
      "std::vector<Eigen::Vector3d> with 115384 elements.\n",
      "Use numpy.asarray() to access data.\n",
      "[[ 1.83239994e+01  4.89999987e-02  8.28999996e-01]\n",
      " [ 1.83439999e+01  1.05999999e-01  8.28999996e-01]\n",
      " [ 5.12989998e+01  5.04999995e-01  1.94400001e+00]\n",
      " ...\n",
      " [ 3.71799994e+00 -1.40600002e+00 -1.73699999e+00]\n",
      " [ 3.71399999e+00 -1.39100003e+00 -1.73300004e+00]\n",
      " [ 3.96700001e+00 -1.47399998e+00 -1.85699999e+00]]\n"
     ]
    }
   ],
   "source": [
    "# point cloud -> numpy\n",
    "print(pcd.points) # c++로 구성\n",
    "\n",
    "pcd_np = np.asarray(pcd.points) \n",
    "print(pcd_np)"
   ]
  },
  {
   "cell_type": "code",
   "execution_count": 5,
   "metadata": {},
   "outputs": [],
   "source": [
    "# numpy -> point cloud\n",
    "A = np.random.random((1000, 3)) * 1000 \n",
    "\n",
    "# numpy -> Open3D에서 사용하는 형식으로 transform\n",
    "# pcd로 transform될 수 있도록 좌표값에 대한 정보를 3열로 이용해야함 -> x, y, z를 사용하기 위해\n",
    "pcd.points = o3d.utility.Vector3dVector(A) \n",
    "\n",
    "o3d.visualization.draw_geometries([pcd])"
   ]
  },
  {
   "attachments": {
    "image.png": {
     "image/png": "[encoded data removed]"
    }
   },
   "cell_type": "markdown",
   "metadata": {},
   "source": [
    "## Voxel Grid Downsampling\n",
    "\n",
    "* 원본 데이터를 그대로 사용할 경우, 정보는 많으나 데이터를 처리하는 데 시간이 너무 많이 필요하다.\n",
    "\n",
    "* 실제 알고리즘을 처리할 때, 필요한 시간을 줄이기 위함이다.\n",
    "\n",
    "* LIDAR point cloud에서 downsampling하는 대표적 방법 : Voxel Grid 기반의 downsampling\n",
    "\n",
    "\n",
    "![image.png](attachment:image.png) \n",
    "\n",
    "* Voxel Grid 내부에 점이 여러 개가 있다고 하더라도 Point Cloud가 1개만 남고, 나머지는 없어지므로 과도하게 많은 정보를 제거한다\n",
    "\n",
    "* parameter는 Voxel Grid의 크기, 단위는 meter\n",
    "\n",
    "* downsampling을 수행할 대, 각 Grid안에서 Point Cloud들의 평균 위치를 계산하고, 이 평균 위치에 새로운 Point Cloud를 생성한다. 이렇게 생성된 새로운 Point Cloud는 기존의 여러 point들을 대표하는 역할을 하게 된다."
   ]
  },
  {
   "cell_type": "code",
   "execution_count": 6,
   "metadata": {},
   "outputs": [
    {
     "name": "stdout",
     "output_type": "stream",
     "text": [
      "Before DownSampling 115384\n",
      "After DownSampling 13472\n"
     ]
    }
   ],
   "source": [
    "# DownSampling (voxel_down_sample)\n",
    "pcd = o3d.io.read_point_cloud(pcd_file_PATH)\n",
    "print('Before DownSampling {}'.format(len(pcd.points)))\n",
    "\n",
    "pcd = pcd.voxel_down_sample(voxel_size = 0.3) # 0.2meter\n",
    "print('After DownSampling {}'.format(len(pcd.points)))\n",
    "\n",
    "o3d.visualization.draw_geometries([pcd], width = 640, height = 480)"
   ]
  },
  {
   "cell_type": "code",
   "execution_count": 8,
   "metadata": {},
   "outputs": [
    {
     "name": "stdout",
     "output_type": "stream",
     "text": [
      "Before DownSampling 115384\n",
      "After DownSampling 11539\n"
     ]
    }
   ],
   "source": [
    "# DownSampling (uniform_down_sample)\n",
    "pcd = o3d.io.read_point_cloud(pcd_file_PATH)\n",
    "print('Before DownSampling {}'.format(len(pcd.points)))\n",
    "\n",
    "pcd = pcd.uniform_down_sample(every_k_points = 10) # 원래 대비 1/10정도가 줄어드는 결과(1/n)\n",
    "print('After DownSampling {}'.format(len(pcd.points)))"
   ]
  }
 ],
 "metadata": {
  "kernelspec": {
   "display_name": "Python 3",
   "language": "python",
   "name": "python3"
  },
  "language_info": {
   "codemirror_mode": {
    "name": "ipython",
    "version": 3
   },
   "file_extension": ".py",
   "mimetype": "text/x-python",
   "name": "python",
   "nbconvert_exporter": "python",
   "pygments_lexer": "ipython3",
   "version": "3.10.7"
  }
 },
 "nbformat": 4,
 "nbformat_minor": 2
}
